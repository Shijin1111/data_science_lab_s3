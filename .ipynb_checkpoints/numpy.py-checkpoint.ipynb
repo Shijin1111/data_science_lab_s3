{
 "cells": [
  {
   "cell_type": "code",
   "execution_count": 2,
   "id": "8137bb4b",
   "metadata": {},
   "outputs": [],
   "source": [
    "import numpy as np"
   ]
  },
  {
   "cell_type": "code",
   "execution_count": 3,
   "id": "59db7569",
   "metadata": {},
   "outputs": [],
   "source": [
    "ar1 = np.array([3,45,6])"
   ]
  },
  {
   "cell_type": "code",
   "execution_count": 4,
   "id": "854c030e",
   "metadata": {},
   "outputs": [
    {
     "name": "stdout",
     "output_type": "stream",
     "text": [
      "[ 3 45  6]\n"
     ]
    }
   ],
   "source": [
    "print(ar1)"
   ]
  },
  {
   "cell_type": "code",
   "execution_count": 7,
   "id": "28143fd4",
   "metadata": {},
   "outputs": [
    {
     "data": {
      "text/plain": [
       "array([[ 3, 45,  6],\n",
       "       [ 5, 76,  3]])"
      ]
     },
     "execution_count": 7,
     "metadata": {},
     "output_type": "execute_result"
    }
   ],
   "source": [
    "ar2 = np.array([[3,45,6],[5,76,3]])\n",
    "ar2"
   ]
  },
  {
   "cell_type": "code",
   "execution_count": 8,
   "id": "ba481686",
   "metadata": {},
   "outputs": [
    {
     "data": {
      "text/plain": [
       "array([[ 3, 45],\n",
       "       [ 6,  5],\n",
       "       [76,  3]])"
      ]
     },
     "execution_count": 8,
     "metadata": {},
     "output_type": "execute_result"
    }
   ],
   "source": [
    "ar2_r = ar2.reshape(3,2)\n",
    "ar2_r"
   ]
  },
  {
   "cell_type": "code",
   "execution_count": 9,
   "id": "4189050c",
   "metadata": {},
   "outputs": [
    {
     "data": {
      "text/plain": [
       "array([ 3, 45,  6])"
      ]
     },
     "execution_count": 9,
     "metadata": {},
     "output_type": "execute_result"
    }
   ],
   "source": [
    "ar2[0]"
   ]
  },
  {
   "cell_type": "code",
   "execution_count": 14,
   "id": "ebe9edfa",
   "metadata": {},
   "outputs": [
    {
     "data": {
      "text/plain": [
       "5"
      ]
     },
     "execution_count": 14,
     "metadata": {},
     "output_type": "execute_result"
    }
   ],
   "source": [
    "ar2[1][0]"
   ]
  },
  {
   "cell_type": "code",
   "execution_count": 15,
   "id": "cc2e0b4a",
   "metadata": {},
   "outputs": [
    {
     "data": {
      "text/plain": [
       "array([[3, 2, 4],\n",
       "       [4, 5, 3]])"
      ]
     },
     "execution_count": 15,
     "metadata": {},
     "output_type": "execute_result"
    }
   ],
   "source": [
    "ar3 = np.array([[3,2,4],[4,5,3]])\n",
    "ar3"
   ]
  },
  {
   "cell_type": "code",
   "execution_count": 17,
   "id": "8294c347",
   "metadata": {},
   "outputs": [
    {
     "data": {
      "text/plain": [
       "array([[ 6, 47, 10],\n",
       "       [ 9, 81,  6]])"
      ]
     },
     "execution_count": 17,
     "metadata": {},
     "output_type": "execute_result"
    }
   ],
   "source": [
    "ar4 = ar2+ar3\n",
    "ar4"
   ]
  },
  {
   "cell_type": "code",
   "execution_count": 18,
   "id": "df8d4d0a",
   "metadata": {},
   "outputs": [
    {
     "data": {
      "text/plain": [
       "array([[  9,  90,  24],\n",
       "       [ 20, 380,   9]])"
      ]
     },
     "execution_count": 18,
     "metadata": {},
     "output_type": "execute_result"
    }
   ],
   "source": [
    "ar5 = ar2*ar3\n",
    "ar5"
   ]
  },
  {
   "cell_type": "code",
   "execution_count": 21,
   "id": "e05b0c04",
   "metadata": {},
   "outputs": [],
   "source": [
    "# ar6 = np.dot(ar2,ar3)\n",
    "# not possible because matrix multiplication only possible in square matrix\n",
    "# ar6"
   ]
  },
  {
   "cell_type": "code",
   "execution_count": 25,
   "id": "63040695",
   "metadata": {},
   "outputs": [
    {
     "data": {
      "text/plain": [
       "array([[-2.5,  1.5],\n",
       "       [ 2. , -1. ]])"
      ]
     },
     "execution_count": 25,
     "metadata": {},
     "output_type": "execute_result"
    }
   ],
   "source": [
    "ar8 = np.array([[2,3],[4,5]])\n",
    "ar7 = np.linalg.inv(ar8)\n",
    "ar7"
   ]
  },
  {
   "cell_type": "code",
   "execution_count": 26,
   "id": "c14fa126",
   "metadata": {},
   "outputs": [
    {
     "data": {
      "text/plain": [
       "array([[1., 0.],\n",
       "       [0., 1.]])"
      ]
     },
     "execution_count": 26,
     "metadata": {},
     "output_type": "execute_result"
    }
   ],
   "source": [
    "ar9 = np.dot(ar8,ar7)\n",
    "ar9"
   ]
  },
  {
   "cell_type": "code",
   "execution_count": null,
   "id": "cf771817",
   "metadata": {},
   "outputs": [],
   "source": []
  }
 ],
 "metadata": {
  "kernelspec": {
   "display_name": "Python 3 (ipykernel)",
   "language": "python",
   "name": "python3"
  },
  "language_info": {
   "codemirror_mode": {
    "name": "ipython",
    "version": 3
   },
   "file_extension": ".py",
   "mimetype": "text/x-python",
   "name": "python",
   "nbconvert_exporter": "python",
   "pygments_lexer": "ipython3",
   "version": "3.11.5"
  }
 },
 "nbformat": 4,
 "nbformat_minor": 5
}
